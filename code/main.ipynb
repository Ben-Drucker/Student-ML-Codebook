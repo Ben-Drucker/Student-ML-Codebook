{
 "cells": [
  {
   "cell_type": "markdown",
   "metadata": {},
   "source": [
    "## Getting Started"
   ]
  },
  {
   "cell_type": "markdown",
   "metadata": {},
   "source": [
    "#### Instructions: Run the cell below to import the necessary libraries. Links to official package documentation are provided."
   ]
  },
  {
   "cell_type": "code",
   "execution_count": null,
   "metadata": {},
   "outputs": [],
   "source": [
    "# General imports\n",
    "import math, sys\n",
    "from IPython.display import display\n",
    "\n",
    "\n",
    "# Data science imports\n",
    "import pandas as pd # pandas documentation: \n",
    "import numpy as np # numpy documentation:\n",
    "import scipy as sp\n",
    "\n",
    "# ML imports\n",
    "from sklearn import neighbors, tree, svm, linear_model, metrics    # Main ML models\n",
    "\n",
    "# Graphical imports\n",
    "from PIL import Image\n",
    "from matplotlib import pyplot as plt # matplotlib documentation:\n",
    "\n",
    "# Configuration\n",
    "np.set_printoptions(threshold=sys.maxsize, linewidth=500)"
   ]
  },
  {
   "cell_type": "markdown",
   "metadata": {},
   "source": [
    "#### Instructions: Use the pandas documentation to read about the operation of the `read_csv` function. Use this function to read in the data file from `/data/digits.csv`. The `read_csv` function returns a `DataFrame` object. A data frame is essentially a mini spreadsheet table. Save this data frame in a variable. Starter code for this task is provided below. Hint, use the proved `col_names` variable as column names for the `DataFrame`."
   ]
  },
  {
   "cell_type": "code",
   "execution_count": null,
   "metadata": {},
   "outputs": [],
   "source": [
    "col_names = [\"pixel \" + str(i) for i in range(64)] + [\"true digit\"]"
   ]
  },
  {
   "cell_type": "code",
   "execution_count": null,
   "metadata": {},
   "outputs": [],
   "source": [
    "# digits_data_train = pd.read_csv(...)\n",
    "# digits_data_test = pd.read_csv(...)"
   ]
  },
  {
   "cell_type": "markdown",
   "metadata": {},
   "source": [
    "#### Instructions: Call the `display` function on our data frames"
   ]
  },
  {
   "cell_type": "code",
   "execution_count": null,
   "metadata": {},
   "outputs": [],
   "source": [
    "### Display data frames here"
   ]
  },
  {
   "cell_type": "markdown",
   "metadata": {},
   "source": [
    "Before moving onto data preparation, consider what each row represents in the data frame. What does each column represent? Hint: read the dataset description [here](website.com)"
   ]
  },
  {
   "cell_type": "markdown",
   "metadata": {},
   "source": [
    "## Data Preparation"
   ]
  },
  {
   "cell_type": "markdown",
   "metadata": {},
   "source": [
    "Let's remember the data we're given. We are given both **feature values** (here, image information) and **labels** (here, the value of the handwritten digit). In the data frame we initialized, all of this information is packaged together. We need to separate the feature values into one data frame (typically denoted ` <dataset name>_<train/test>_X`) and the labels (or **targets**) into another (typically denoted `<dataset name>_<train/test>_y`). To accomplish this, we can use the `pop` function (from the `pandas` library) to \"pop off\" the labels column of the data frame. Using `pandas` documentation as a guide, obtain the following four `DataFrame`s: \n",
    "\n",
    "* training features\n",
    "* training labels\n",
    "* testing features\n",
    "* testing labels\n",
    "\n",
    "*Note: Error checking code provided so that if the cell is rerun and the target column has already been popped off the `DataFrame`, there won't be any errors.*"
   ]
  },
  {
   "cell_type": "code",
   "execution_count": null,
   "metadata": {},
   "outputs": [],
   "source": [
    "try:\n",
    "    ### Add code to get the four data frames here ###\n",
    "except KeyError as e:\n",
    "    print(\"Note: Key Error Exception thrown---the key %s may not exist.\" %(e))"
   ]
  },
  {
   "cell_type": "markdown",
   "metadata": {},
   "source": [
    "## First ML model"
   ]
  },
  {
   "cell_type": "markdown",
   "metadata": {},
   "source": [
    "#### Instructions: Fit a first machine learning model (KNN) using the starter code given below. Using the SK learn documentation as a guide, fill in the missing sections."
   ]
  },
  {
   "cell_type": "code",
   "execution_count": null,
   "metadata": {},
   "outputs": [],
   "source": [
    "knn_classifier = neighbors.KNeighborsClassifier(n_neighbors = 5, algorithm = 'brute') # Creating a KNN classifier object\n",
    "\n",
    "# Fit the KNN classifier with the TRAINING DATA here\n",
    "\n",
    "# Score (using the default metric of accuracy) the KNN classifier here USING TEST DATA\n",
    "\n",
    "# Obtain a list of predictions here "
   ]
  },
  {
   "cell_type": "markdown",
   "metadata": {},
   "source": [
    "#### Instructions: Uncomment the following line to see a *confusion matrix* for the data. This shows the number of test examples in each predicted-label, true-label combination. Can you explain any patterns you see?"
   ]
  },
  {
   "cell_type": "code",
   "execution_count": null,
   "metadata": {},
   "outputs": [],
   "source": [
    "# metrics.ConfusionMatrixDisplay(metrics.confusion_matrix(true_values, predictions)).plot()"
   ]
  },
  {
   "cell_type": "markdown",
   "metadata": {},
   "source": [
    "#### Congratulations! You've just fitted your first machine learning model! Was there less \"to do\" than you expected? You may find it interesting that all different types of machine learning algorithms are implemented by the SK learn library. Furthermore, they all have the same syntax (with minor differences)! But maybe this first model felt unsatisfying. At the end of the day, you didn't need to implement the algorithm from scratch. Commonly, students of machine learning will implement various (tractable) ML algorithms to understand how they work and to gain an appreciation for the underlying mechanics. That's what you will complete next!"
   ]
  },
  {
   "cell_type": "markdown",
   "metadata": {},
   "source": [
    "## Implementing KNN"
   ]
  },
  {
   "cell_type": "markdown",
   "metadata": {},
   "source": [
    "#### Instructions: Implement and test the K-nearest neighbors algorithm. This function should take 5 parameters: `X_train`, `y_train`, `X_test`, `y_test`, and `k`. It should (1) print predictions, true values, test example #, and whether the classifier was correct for each test example and (2) return the accuracy of this model. (Your implementation may require much more computational time than the library method since the library method uses low-level C code) <!--It should run in $O(m\\cdot n\\cdot k\\log(k))$ time, where $n$ is the length of `X_test` and $m$ is the length of `X_train`. (Note that since, typically, $k$ is regarded as a small constant with $k \\ll n$, the runtime is essentially $O(n)$.)-->\n",
    "\n",
    "#### You should create a helper function that calculates the distance between two examples in a `DataFrame`."
   ]
  },
  {
   "cell_type": "code",
   "execution_count": null,
   "metadata": {},
   "outputs": [],
   "source": [
    "### Implement KNN and distance functions here."
   ]
  },
  {
   "cell_type": "code",
   "execution_count": null,
   "metadata": {},
   "outputs": [],
   "source": [
    "### Test your KNN implementation with k = 5 here. Ensure that your predictions exactlly match SK Learn's predictions."
   ]
  },
  {
   "cell_type": "markdown",
   "metadata": {},
   "source": [
    "#### Food for thought: Why might we want to avoid using even values of $k$?"
   ]
  },
  {
   "cell_type": "markdown",
   "metadata": {},
   "source": [
    "## Real-World handwriting"
   ]
  },
  {
   "cell_type": "markdown",
   "metadata": {},
   "source": [
    "#### In this section, we will put our classifiers to use! We will create novel examples of human-handwritten digits and see how well the computer can recognize them! Below is a function `process_human_example`. Its documentation is provided below."
   ]
  },
  {
   "cell_type": "code",
   "execution_count": null,
   "metadata": {},
   "outputs": [],
   "source": [
    "def process_human_example(image_file_path, verbose = True):\n",
    "    \"\"\" function process_human_example: \n",
    "        Preprocessing function to turn an image into a DataFrame query so it can be passed into ML classifier.\n",
    "\n",
    "    Args:\n",
    "        image_file_path (string): Path to image file to be processed\n",
    "        verbose (boo    lean, optional): Whether or not to print out preprocessing information about the input image. Defaults to True.\n",
    "\n",
    "    Returns:\n",
    "        (pandas DataFrame): Contains a single novel query which is a feature vector representation of input image\n",
    "    \"\"\"\n",
    "    \n",
    "    newArr = np.zeros(shape=(32,32))\n",
    "    img = Image.open(image_file_path).convert('RGBA')\n",
    "    arr = np.array(img)\n",
    "    for i in range(arr.shape[0]):\n",
    "        for j in range(arr.shape[1]):\n",
    "            if arr[i, j, 3] == 255: \n",
    "                newArr[i, j] = 1\n",
    "    \n",
    "    if verbose:\n",
    "        print(\"=== Array representation of handwritten digit ===\")       \n",
    "        print(newArr)\n",
    "        print()\n",
    "\n",
    "    \n",
    "    finalArr = np.zeros(shape=(8, 8))\n",
    "    for i in range(32):\n",
    "        for j in range(32):\n",
    "            finalArr[i//4, j//4] += newArr[i, j]\n",
    "    \n",
    "    if verbose:\n",
    "        print(\"=== Compressed array representation of handwritten digit ===\")\n",
    "        print(finalArr)\n",
    "        print()\n",
    "        print(\"=== Graphical pseudo-greyscale representation of image ===\")\n",
    "        plt.figure(1, figsize=(3, 3))\n",
    "        plt.imshow(finalArr, cmap=plt.cm.gray_r, interpolation=\"nearest\")\n",
    "        plt.show()\n",
    "    \n",
    "    feature_vector = pd.DataFrame(finalArr.ravel()).T\n",
    "    feature_vector.columns = col_names[:-1]\n",
    "    \n",
    "    if verbose:\n",
    "        print(\"=== Feature vector representation of handwritten digit ===\")\n",
    "        display(feature_vector)\n",
    "    \n",
    "    return feature_vector"
   ]
  },
  {
   "cell_type": "markdown",
   "metadata": {},
   "source": [
    "#### Instructions: Pass the provided numeral example `png`s (found in the `images` directory) to `process_human_example` and save the resulting `Dataframe`s in appropriately-named variables. Then, pass these `Dataframe`s into the `predict` method of the SK learn KNN classifier from before. How did the ML model do?"
   ]
  },
  {
   "cell_type": "code",
   "execution_count": null,
   "metadata": {},
   "outputs": [],
   "source": [
    "# Your code here"
   ]
  }
 ],
 "metadata": {
  "interpreter": {
   "hash": "4af22098b8e539759fa505b6bf6e0139339afb9cd927a23b8902e4d02139dceb"
  },
  "kernelspec": {
   "display_name": "Python 3.9.7 64-bit ('base': conda)",
   "language": "python",
   "name": "python3"
  },
  "language_info": {
   "codemirror_mode": {
    "name": "ipython",
    "version": 3
   },
   "file_extension": ".py",
   "mimetype": "text/x-python",
   "name": "python",
   "nbconvert_exporter": "python",
   "pygments_lexer": "ipython3",
   "version": "3.9.7"
  },
  "orig_nbformat": 4
 },
 "nbformat": 4,
 "nbformat_minor": 2
}
