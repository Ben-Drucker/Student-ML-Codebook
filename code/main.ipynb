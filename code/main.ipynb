{
 "cells": [
  {
   "cell_type": "markdown",
   "metadata": {},
   "source": [
    "## Getting Started"
   ]
  },
  {
   "cell_type": "markdown",
   "metadata": {},
   "source": [
    "#### Instructions: Run the cell below to import the necessary libraries. Links to official package documentation are provided."
   ]
  },
  {
   "cell_type": "code",
   "execution_count": null,
   "metadata": {},
   "outputs": [],
   "source": [
    "# General imports\n",
    "import math, sys\n",
    "from IPython.display import display\n",
    "\n",
    "\n",
    "# Data science imports\n",
    "import pandas as pd # pandas documentation: \n",
    "import numpy as np # numpy documentation:\n",
    "import scipy as sp\n",
    "\n",
    "# ML imports\n",
    "from sklearn import neighbors, tree, svm, linear_model, metrics    # Main ML models\n",
    "\n",
    "# Graphical imports\n",
    "from PIL import Image\n",
    "from matplotlib import pyplot as plt # matplotlib documentation:\n",
    "\n",
    "# Configuration\n",
    "np.set_printoptions(threshold=sys.maxsize, linewidth=500)"
   ]
  },
  {
   "cell_type": "markdown",
   "metadata": {},
   "source": [
    "#### Instructions: Use the pandas documentation to read about the operation of the `read_csv` function. Use this function to read in the data file from `/data/digits.csv`. The `read_csv` function returns a `DataFrame` object. A data frame is essentially a mini spreadsheet table. Save this data frame in a variable. Starter code for this task is provided below. Hint, use the proved `col_names` variable as column names for the `DataFrame`."
   ]
  },
  {
   "cell_type": "code",
   "execution_count": null,
   "metadata": {},
   "outputs": [],
   "source": [
    "# digits_data_train = pd.read_csv(...)\n",
    "# digits_data_test = pd.read_csv(...)\n",
    "col_names = [\"pixel \" + str(i) for i in range(64)] + [\"true digit\"]\n",
    "\n",
    "\n",
    "digits_train = pd.read_csv(\"../data/digits_train.csv\",names = col_names)\n",
    "digits_test = pd.read_csv(\"../data/digits_test.csv\",names=col_names)"
   ]
  },
  {
   "cell_type": "markdown",
   "metadata": {},
   "source": [
    "#### Instructions: Call the `display` function on our data frames"
   ]
  },
  {
   "cell_type": "code",
   "execution_count": null,
   "metadata": {},
   "outputs": [],
   "source": [
    "### Display data frames here\n",
    "display(digits_train)\n",
    "display(digits_test)"
   ]
  },
  {
   "cell_type": "markdown",
   "metadata": {},
   "source": [
    "Before moving onto data preparation, consider what each row represents in the data frame. What does each column represent? Hint: read the dataset description [here](website.com)"
   ]
  },
  {
   "cell_type": "markdown",
   "metadata": {},
   "source": [
    "## Data Preparation"
   ]
  },
  {
   "cell_type": "markdown",
   "metadata": {},
   "source": [
    "Let's remember the data we're given. We are given both **feature values** (here, image information) and **labels** (here, the value of the handwritten digit). In the data frame we initialized, all of this information is packaged together. We need to separate the feature values into one data frame (typically denoted ` <dataset name>_<train/test>_X`) and the labels (or **targets**) into another (typically denoted `<dataset name>_<train/test>_y`). To accomplish this, we can use the `pop` function (from the `pandas` library) to \"pop off\" the labels column of the data frame. Using `pandas` documentation as a guide, obtain the following four `DataFrame`s: \n",
    "\n",
    "* training features\n",
    "* training labels\n",
    "* testing features\n",
    "* testing labels\n",
    "\n",
    "*Note: Error checking code provided so that if the cell is rerun and the target column has already been popped off the `DataFrame`, there won't be any errors.*"
   ]
  },
  {
   "cell_type": "code",
   "execution_count": null,
   "metadata": {},
   "outputs": [],
   "source": [
    "try:\n",
    "    ### Add code to get the four data frames here ###\n",
    "    digits_train_y = digits_train.pop(\"true digit\")\n",
    "    digits_train_X = digits_train\n",
    "\n",
    "    digits_test_y = digits_test.pop(\"true digit\")\n",
    "    digits_test_X = digits_test \n",
    "except KeyError as e:\n",
    "    print(\"Note: Key Error Exception thrown---the key %s may not exist.\" %(e))"
   ]
  },
  {
   "cell_type": "markdown",
   "metadata": {},
   "source": [
    "## First ML model"
   ]
  },
  {
   "cell_type": "markdown",
   "metadata": {},
   "source": [
    "#### Instructions: Fit a first machine learning model (KNN) using the starter code given below. Using the SK learn documentation as a guide, fill in the missing sections."
   ]
  },
  {
   "cell_type": "code",
   "execution_count": null,
   "metadata": {},
   "outputs": [],
   "source": [
    "knn_classifier = neighbors.KNeighborsClassifier(n_neighbors = 5, algorithm = 'brute') # Creating a KNN classifier object\n",
    "\n",
    "# Fit the KNN classifier with the TRAINING DATA here \n",
    "knn_classifier.fit(digits_train_X, digits_train_y) \n",
    "\n",
    "# Score (using the default metric of accuracy) the KNN classifier here USING TEST DATA\n",
    "knn_classifier.score(digits_test_X, digits_test_y)\n",
    "\n",
    "# Obtain a list of predictions here \n",
    "predictions = knn_classifier.predict(digits_test_X)\n",
    "true_values = digits_test_y\n",
    "\n",
    "# Uncomment the following line to see a confusion matrix for the data. This shows the number of test examples in each predicted-label, true-label combination. Can you explain any patterns you see?\n",
    "metrics.ConfusionMatrixDisplay(metrics.confusion_matrix(true_values, predictions)).plot()"
   ]
  },
  {
   "cell_type": "markdown",
   "metadata": {},
   "source": [
    "#### Congratulations! You've just fitted your first machine learning model! Was there less \"to do\" than you expected? You may find it interesting that all different types of machine learning algorithms are implemented by the SK learn library. Furthermore, they all have the same syntax (with minor differences)! But maybe this first model felt unsatisfying. At the end of the day, you didn't need to implement the algorithm from scratch. Commonly, students of machine learning will implement various (tractable) ML algorithms to understand how they work and to gain an appreciation for the underlying mechanics. That's what you will complete next!"
   ]
  },
  {
   "cell_type": "markdown",
   "metadata": {},
   "source": [
    "## Implementing KNN"
   ]
  },
  {
   "cell_type": "markdown",
   "metadata": {},
   "source": [
    "#### Instructions: Implement the K-nearest neighbors algorithm. This function should take 5 parameters: `X_train`, `y_train`, `X_test`, `y_test`, and `k`. It should (1) print predictions, true values, test example #, and whether the classifier was correct for each test example and (2) return the accuracy of this model. (Your implementation may require much more computational time than the library method since the library method uses low-level C code) <!--It should run in $O(m\\cdot n\\cdot k\\log(k))$ time, where $n$ is the length of `X_test` and $m$ is the length of `X_train`. (Note that since, typically, $k$ is regarded as a small constant with $k \\ll n$, the runtime is essentially $O(n)$.)-->\n",
    "\n",
    "#### You should create a helper function that calculates the distance between two examples in a `DataFrame`."
   ]
  },
  {
   "cell_type": "code",
   "execution_count": null,
   "metadata": {},
   "outputs": [],
   "source": [
    "### Implement KNN here.\n",
    "import time\n",
    "\n",
    "def distance(a, b):\n",
    "    a = np.asarray(a)\n",
    "    b = np.asarray(b)\n",
    "    assert(a.shape == b.shape)\n",
    "    _sum = 0\n",
    "    for axis in range(len(a)):\n",
    "        _sum += (b[axis] - a[axis])**2\n",
    "    return math.sqrt(_sum)\n",
    "        \n",
    "\n",
    "def KNN(X_train, y_train, X_test, y_test, k):\n",
    "    predictions = np.zeros(y_test.shape)\n",
    "    i = 0\n",
    "    correct = 0\n",
    "    print(\"Test example # | Predicted digit | Actual digit | Correct (Y/N)\")\n",
    "    print(\"-----------------------------------------------------------------\")\n",
    "    for example_test in X_test.iterrows():\n",
    "        running_nn = []\n",
    "        i += 1\n",
    "        for example_train in X_train.iterrows():\n",
    "            _distance = distance(example_train[1], example_test[1])\n",
    "            info_tuple = (_distance, example_train[0])\n",
    "            if len(running_nn) < k:\n",
    "                running_nn.append(info_tuple)\n",
    "            elif _distance < running_nn[-1][0]:\n",
    "                running_nn[-1] = (info_tuple)\n",
    "                running_nn.sort()\n",
    "        labs = [y_train[x[1]] for x in running_nn]\n",
    "        prediction = sp.stats.mode(labs)[0][0]\n",
    "        if prediction == y_test[i-1]:\n",
    "            correct += 1\n",
    "        print(\"%d\\t\\t     %d\\t\\t     %d\\t\\t     %s\" %(i, prediction, y_test[i-1], \"Y\" if prediction == y_test[i-1] else \"N\"))\n",
    "    return correct/len(y_test)\n",
    "\n",
    "KNN(digits_train_X, digits_train_y, digits_test_X, digits_test_y, 5)"
   ]
  },
  {
   "cell_type": "markdown",
   "metadata": {},
   "source": [
    "## Real-World handwriting"
   ]
  },
  {
   "cell_type": "code",
   "execution_count": null,
   "metadata": {},
   "outputs": [],
   "source": [
    "def process_human_example(image_file_path, verbose = True):\n",
    "    newArr = np.zeros(shape=(32,32))\n",
    "    img = Image.open(image_file_path).convert('RGBA')\n",
    "    arr = np.array(img)\n",
    "    for i in range(arr.shape[0]):\n",
    "        for j in range(arr.shape[1]):\n",
    "            if arr[i, j, 3] == 255: \n",
    "                newArr[i, j] = 1\n",
    "    \n",
    "    if verbose:\n",
    "        print(\"=== Array representation of handwritten digit ===\")       \n",
    "        print(newArr)\n",
    "        print()\n",
    "\n",
    "    \n",
    "    finalArr = np.zeros(shape=(8, 8))\n",
    "    for i in range(32):\n",
    "        for j in range(32):\n",
    "            finalArr[i//4, j//4] += newArr[i, j]\n",
    "    \n",
    "    if verbose:\n",
    "        print(\"=== Compressed array representation of handwritten digit ===\")\n",
    "        print(finalArr)\n",
    "        print()\n",
    "        print(\"=== Graphical pseudo-greyscale representation of image ===\")\n",
    "        plt.figure(1, figsize=(3, 3))\n",
    "        plt.imshow(finalArr, cmap=plt.cm.gray_r, interpolation=\"nearest\")\n",
    "        plt.show()\n",
    "    \n",
    "    feature_vector = pd.DataFrame(finalArr.ravel()).T\n",
    "    feature_vector.columns = col_names[:-1]\n",
    "    \n",
    "    if verbose:\n",
    "        print(\"=== Feature vector representation of handwritten digit ===\")\n",
    "        display(feature_vector)\n",
    "    \n",
    "    return feature_vector\n",
    "\n",
    "novel_query_2 = process_human_example(\"../images/Handwritten_2.png\")\n",
    "novel_query_5 = process_human_example(\"../images/Handwritten_5.png\")\n",
    "novel_query_7 = process_human_example(\"../images/Handwritten_7.png\")\n",
    "novel_query_7_larger = process_human_example(\"../images/Handwritten_7-larger.png\")"
   ]
  },
  {
   "cell_type": "code",
   "execution_count": null,
   "metadata": {},
   "outputs": [],
   "source": [
    "print(knn_classifier.predict(novel_query_2),\n",
    "knn_classifier.predict(novel_query_5),\n",
    "knn_classifier.predict(novel_query_7),\n",
    "knn_classifier.predict(novel_query_7_larger))"
   ]
  }
 ],
 "metadata": {
  "interpreter": {
   "hash": "4af22098b8e539759fa505b6bf6e0139339afb9cd927a23b8902e4d02139dceb"
  },
  "kernelspec": {
   "display_name": "Python 3.9.7 64-bit ('base': conda)",
   "language": "python",
   "name": "python3"
  },
  "language_info": {
   "codemirror_mode": {
    "name": "ipython",
    "version": 3
   },
   "file_extension": ".py",
   "mimetype": "text/x-python",
   "name": "python",
   "nbconvert_exporter": "python",
   "pygments_lexer": "ipython3",
   "version": "3.9.7"
  },
  "orig_nbformat": 4
 },
 "nbformat": 4,
 "nbformat_minor": 2
}
